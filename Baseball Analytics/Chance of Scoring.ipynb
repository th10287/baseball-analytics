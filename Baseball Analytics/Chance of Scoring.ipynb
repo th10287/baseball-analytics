{
 "cells": [
  {
   "cell_type": "markdown",
   "id": "f144fac7",
   "metadata": {},
   "source": [
    "#### The goal of this file is to be able to generate a table similar to the one found in [this video](https://youtu.be/3Zcv9JQBgc8?t=682) at the *11:22* mark. We can use this to see how detrimental it is to a team if they do not score in certain scenarios.   \n",
    "   * If a team has a **90%+** chance of scoring in a given scenario with **0** outs, but a roughly **50%** chance to score in the same scenario with **1** out, we can begin to explain why a team is struggling to win close games."
   ]
  },
  {
   "cell_type": "code",
   "execution_count": 1,
   "id": "82e94d23",
   "metadata": {},
   "outputs": [],
   "source": [
    "import pandas as pd\n",
    "from pprint import pprint"
   ]
  },
  {
   "cell_type": "code",
   "execution_count": 2,
   "id": "4c2948c3",
   "metadata": {},
   "outputs": [],
   "source": [
    "# updates the count for combinations of baserunners and outs after every inning parsed or after each time a run is scored while parsing\n",
    "# scored is True if this function is called due to a run scoring after an AB\n",
    "def update_tally(scenarios, temp_scenarios, scored=False):\n",
    "    for b in temp_scenarios:\n",
    "            for o in temp_scenarios[b]:\n",
    "                scenarios[b][o][\"num\"] += temp_scenarios[b][o]\n",
    "                if scored:\n",
    "                    scenarios[b][o][\"scored\"] += temp_scenarios[b][o]\n",
    "                temp_scenarios[b][o] = 0\n",
    "    return scenarios, temp_scenarios"
   ]
  },
  {
   "cell_type": "code",
   "execution_count": 17,
   "id": "cba83cd3",
   "metadata": {},
   "outputs": [],
   "source": [
    "def find_probs(team):\n",
    "    data = data = pd.read_excel(f\"Team Batting Logs/{team}.xlsx\")\n",
    "    # will hold final tallies of baserunner-out combinations\n",
    "    scenarios = {}\n",
    "    # this dict is used to keep track of base-out combos that are seen before we know if a run scored that inning or not\n",
    "    temp_scenarios = {}\n",
    "    # used to keep track of inning changes\n",
    "    curr_inn = None\n",
    "\n",
    "    for ab in data.iterrows():\n",
    "        inn = ab[1][0]\n",
    "        # check if inning ended\n",
    "        if not curr_inn or curr_inn != inn:\n",
    "            curr_inn = inn\n",
    "            scenarios, temp_scenarios = update_tally(scenarios, temp_scenarios)\n",
    "        # get baserunners and outs\n",
    "        bases = ab[1][3]\n",
    "        outs = ab[1][2]\n",
    "        # initialize combinations to dictionaries- final dict starts at 0 and is only added to when update_tally() is called\n",
    "        if bases not in scenarios:\n",
    "            scenarios[bases] = {outs: {\"num\": 0, \"scored\": 0}}\n",
    "            temp_scenarios[bases] = {outs: 1}\n",
    "        elif outs not in scenarios[bases]:\n",
    "            scenarios[bases][outs] = {\"num\": 0, \"scored\": 0}\n",
    "            temp_scenarios[bases][outs] = 1\n",
    "        # if already initialized, add to temp tally\n",
    "        else:\n",
    "            temp_scenarios[bases][outs] += 1\n",
    "        # check if a run scored as a result of AB; if one did, we update the tally\n",
    "        run_scored = type(ab[1][5]) ==  str and \"R\" in ab[1][5]\n",
    "        if run_scored:\n",
    "            scenarios, temp_scenarios = update_tally(scenarios, temp_scenarios, True)\n",
    "    # one last update after the end of the sheet\n",
    "    scenarios, temp_scenarios = update_tally(scenarios, temp_scenarios)\n",
    "    \n",
    "    # convert to percentages matrix and transpose + sort matrix for better viewing\n",
    "    scenarios = {k: {k1: round(100*v1['scored']/v1['num'], 2) for k1,v1 in v.items()} for k,v in scenarios.items()}\n",
    "    scenarios = pd.DataFrame(scenarios).T\n",
    "    scenarios.sort_index(inplace=True)\n",
    "    # final result will look similar to the graphic in the video above\n",
    "    return scenarios"
   ]
  },
  {
   "cell_type": "code",
   "execution_count": 18,
   "id": "7b041b82",
   "metadata": {},
   "outputs": [
    {
     "name": "stdout",
     "output_type": "stream",
     "text": [
      "          0      1      2\n",
      "---   29.17  16.79   8.58\n",
      "--3   90.00  65.52  29.73\n",
      "-2-   66.67  42.86  28.07\n",
      "-23  100.00  57.14  21.21\n",
      "1--   39.39  26.02  15.84\n",
      "1-3   92.86  71.43  35.42\n",
      "12-   51.28  36.23  26.88\n",
      "123   86.67  68.57  31.71\n"
     ]
    }
   ],
   "source": [
    "pprint(find_probs(\"ATL\"))"
   ]
  },
  {
   "cell_type": "markdown",
   "id": "ccb456b3",
   "metadata": {},
   "source": [
    "As we can see, the *Braves* have a **90%** chance to score with a runner on 3rd and **0** outs, but if they get out and don't score as a result, those odds drop to around **66%**."
   ]
  },
  {
   "cell_type": "code",
   "execution_count": 19,
   "id": "9208774a",
   "metadata": {},
   "outputs": [
    {
     "name": "stdout",
     "output_type": "stream",
     "text": [
      "         0      1      2\n",
      "---  25.77  13.25   5.44\n",
      "--3  75.00  69.23  35.71\n",
      "-2-  65.00  40.74  25.24\n",
      "-23  75.00  73.68  18.75\n",
      "1--  43.14  23.91  10.15\n",
      "1-3  92.31  54.05  34.29\n",
      "12-  61.70  39.71  20.41\n",
      "123  91.67  78.26  37.50\n"
     ]
    }
   ],
   "source": [
    "pprint(find_probs(\"SEA\"))"
   ]
  },
  {
   "cell_type": "markdown",
   "id": "acac359e",
   "metadata": {},
   "source": [
    "The *Mariners* have it slightly different. Sporting the worst batting average in the MLB at an abysmal **.218**, we can see that they don't necessarily excel with a runner on 3rd and **0** outs, scoring that runner only **75%** of the time. However, even they top the *Braves* with both the bases loaded and having runners at 1st and 2nd. In some cases, they have a run cross the plate at a rate that's almost **10%** higher than the *Braves* do.  \n",
    "  \n",
    "This is notable beacuse the scenarios that Seattle excels in happen quite more frequently than the ones Atlanta favors. Even if we counted every time a runner was just on 3rd for both teams, you'd still only have **134** at bats compared to almost **600** with either the bases loaded or a runner on 1st and 2nd for both teams combined."
   ]
  },
  {
   "cell_type": "code",
   "execution_count": null,
   "id": "a8d552b8",
   "metadata": {},
   "outputs": [],
   "source": []
  }
 ],
 "metadata": {
  "kernelspec": {
   "display_name": "Python 3",
   "language": "python",
   "name": "python3"
  },
  "language_info": {
   "codemirror_mode": {
    "name": "ipython",
    "version": 3
   },
   "file_extension": ".py",
   "mimetype": "text/x-python",
   "name": "python",
   "nbconvert_exporter": "python",
   "pygments_lexer": "ipython3",
   "version": "3.7.10"
  }
 },
 "nbformat": 4,
 "nbformat_minor": 5
}
