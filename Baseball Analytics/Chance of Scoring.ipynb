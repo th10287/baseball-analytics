{
 "cells": [
  {
   "cell_type": "code",
   "execution_count": 1,
   "id": "467587c5",
   "metadata": {},
   "outputs": [],
   "source": [
    "import pandas as pd"
   ]
  },
  {
   "cell_type": "code",
   "execution_count": 3,
   "id": "1af3e218",
   "metadata": {},
   "outputs": [
    {
     "name": "stdout",
     "output_type": "stream",
     "text": [
      "  Inn Score  Out  RoB  Pit(cnt)  R/O @Bat            Batter     Pitcher wWPA  \\\n",
      "0  t1   0-0    0  ---  1,(0-0)     O  ATL  Ronald Acuna Jr.  Aaron Nola   2%   \n",
      "1  t1   0-0    1  ---  4,(1-2)     O  ATL      Ozzie Albies  Aaron Nola   2%   \n",
      "2  t1   0-0    2  ---  4,(1-2)     O  ATL   Freddie Freeman  Aaron Nola   1%   \n",
      "3  t2   0-1    0  ---  5,(1-2)   NaN  ATL     Marcell Ozuna  Aaron Nola  -4%   \n",
      "4  t2   0-1    0  1--  3,(0-2)     O  ATL   Travis d'Arnaud  Aaron Nola   4%   \n",
      "\n",
      "   wWE                            Play Description  \n",
      "0  52%                    Flyball: CF (Deep LF-CF)  \n",
      "1  54%                          Strikeout Swinging  \n",
      "2  55%                             Groundout: 1B-P  \n",
      "3  56%  Single to LF (Ground Ball thru SS-3B Hole)  \n",
      "4  60%                          Strikeout Swinging  \n"
     ]
    }
   ],
   "source": [
    "data = pd.read_excel(\"Team Batting Logs/ATL.xlsx\")\n",
    "print(data.head(5))"
   ]
  },
  {
   "cell_type": "code",
   "execution_count": 12,
   "id": "80898b11",
   "metadata": {},
   "outputs": [
    {
     "name": "stdout",
     "output_type": "stream",
     "text": [
      "0\n"
     ]
    }
   ],
   "source": [
    "inn = None\n",
    "\n",
    "for r in data.iterrows():\n",
    "    inn = r[1][0]\n",
    "    print(r[1][2])\n",
    "    break"
   ]
  },
  {
   "cell_type": "code",
   "execution_count": null,
   "id": "4ca94fa0",
   "metadata": {},
   "outputs": [],
   "source": []
  }
 ],
 "metadata": {
  "kernelspec": {
   "display_name": "Python 3",
   "language": "python",
   "name": "python3"
  },
  "language_info": {
   "codemirror_mode": {
    "name": "ipython",
    "version": 3
   },
   "file_extension": ".py",
   "mimetype": "text/x-python",
   "name": "python",
   "nbconvert_exporter": "python",
   "pygments_lexer": "ipython3",
   "version": "3.7.10"
  }
 },
 "nbformat": 4,
 "nbformat_minor": 5
}
