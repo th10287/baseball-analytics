{
 "cells": [
  {
   "cell_type": "code",
   "execution_count": 2,
   "id": "e78873d1",
   "metadata": {},
   "outputs": [],
   "source": [
    "import selenium\n",
    "from selenium import webdriver\n",
    "from selenium.webdriver.chrome.options import Options\n",
    "import time as t\n",
    "import pandas as pd\n",
    "import os\n",
    "\n",
    "current_directory = os.getcwd()\n",
    "\n",
    "options = Options()\n",
    "options.add_argument('--headless')\n",
    "options.add_argument('--disable-gpu')\n",
    "\n",
    "browser = webdriver.Chrome(executable_path=\"chromedrivers/chromedriver.exe\", options=options)"
   ]
  },
  {
   "cell_type": "code",
   "execution_count": 3,
   "id": "32fa129a",
   "metadata": {},
   "outputs": [],
   "source": [
    "def get_game_logs(team, year):\n",
    "    browser.get(f\"https://www.baseball-reference.com/teams/tgl.cgi?team={team}&t=b&year={year}\")\n",
    "    gamesTable = browser.find_element_by_xpath('//*[@id=\"team_batting_gamelogs\"]')\n",
    "    games = gamesTable.find_elements_by_xpath(\"tbody/tr\")\n",
    "    print(\"Finding game links...\")\n",
    "    links = []\n",
    "    for g in games:\n",
    "        try:\n",
    "            link = g.find_element_by_xpath(\"td[2]\").find_element_by_xpath(\"a\").get_attribute(\"href\")\n",
    "            links.append(link)\n",
    "        except selenium.common.exceptions.NoSuchElementException:\n",
    "            continue\n",
    "    gameCount = 1\n",
    "    logs = []\n",
    "    header = None\n",
    "    for link in links:\n",
    "        print(f\"Logging Game {gameCount}...\", end='\\r')\n",
    "        log, header = log_parser(link, browser, team)\n",
    "        logs += log\n",
    "        gameCount += 1\n",
    "        \n",
    "    output_directory = os.path.join(current_directory, \"Team Batting Logs\")\n",
    "    if not os.path.exists(output_directory):\n",
    "        os.makedirs(output_directory)\n",
    "    \n",
    "    df = pd.DataFrame(logs)\n",
    "    writer = pd.ExcelWriter(f\"Team Batting Logs/{team}.xlsx\", engine='xlsxwriter')\n",
    "    df.to_excel(writer, sheet_name=\"Game Log\", header=header, index=False)\n",
    "    writer.save()\n",
    "        \n",
    "    \n",
    "def log_parser(link, browser, team):\n",
    "    filename = link.split(\"/\")[-1].split(\".\")[0]\n",
    "    output_directory = os.path.join(current_directory, team)\n",
    "    \n",
    "    browser.get(link)\n",
    "    table = browser.find_element_by_xpath('//table[@id=\"play_by_play\"]')\n",
    "    game = []\n",
    "    header = table.find_element_by_xpath(\"thead/tr\")\n",
    "    header = [item.text for item in header.find_elements_by_xpath(\"th\")]\n",
    "\n",
    "    rows = table.find_elements_by_xpath(\"tbody/tr\")\n",
    "    for row in rows:\n",
    "        head = row.find_element_by_xpath(\"th\").text\n",
    "        if not head or head[0] != \"b\" and head[0] != \"t\":\n",
    "            continue\n",
    "        items = [item.text for item in row.find_elements_by_xpath(\"td\")]\n",
    "        if items[5] != team:\n",
    "            continue\n",
    "        game.append([head] + items)\n",
    "        \n",
    "    return game, header"
   ]
  },
  {
   "cell_type": "code",
   "execution_count": 4,
   "id": "bac3f17b",
   "metadata": {},
   "outputs": [
    {
     "name": "stdout",
     "output_type": "stream",
     "text": [
      "Finding game links...\n",
      "Logging Game 82...\r"
     ]
    }
   ],
   "source": [
    "get_game_logs(\"SEA\", 2021)"
   ]
  },
  {
   "cell_type": "code",
   "execution_count": null,
   "id": "c2bd6af6",
   "metadata": {},
   "outputs": [],
   "source": []
  }
 ],
 "metadata": {
  "kernelspec": {
   "display_name": "Python 3",
   "language": "python",
   "name": "python3"
  },
  "language_info": {
   "codemirror_mode": {
    "name": "ipython",
    "version": 3
   },
   "file_extension": ".py",
   "mimetype": "text/x-python",
   "name": "python",
   "nbconvert_exporter": "python",
   "pygments_lexer": "ipython3",
   "version": "3.7.10"
  }
 },
 "nbformat": 4,
 "nbformat_minor": 5
}
